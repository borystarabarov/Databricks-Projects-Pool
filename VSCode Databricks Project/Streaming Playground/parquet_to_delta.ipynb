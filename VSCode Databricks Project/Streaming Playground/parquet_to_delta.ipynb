{
 "cells": [
  {
   "cell_type": "markdown",
   "metadata": {},
   "source": [
    "# Configure Spark Session\n",
    "Import necessary libraries and configure Spark session with Delta Lake support."
   ]
  },
  {
   "cell_type": "code",
   "execution_count": null,
   "metadata": {},
   "outputs": [],
   "source": [
    "# Import necessary libraries\n",
    "from pyspark.sql import SparkSession\n",
    "\n",
    "# Configure Spark session with Delta Lake support\n",
    "spark = SparkSession.builder \\\n",
    "    .appName(\"Parquet to Delta Stream\") \\\n",
    "    .config(\"spark.sql.extensions\", \"io.delta.sql.DeltaSparkSessionExtension\") \\\n",
    "    .config(\"spark.sql.catalog.spark_catalog\", \"org.apache.spark.sql.delta.catalog.DeltaCatalog\") \\\n",
    "    .getOrCreate()"
   ]
  },
  {
   "cell_type": "markdown",
   "metadata": {},
   "source": [
    "# Define Source Stream Configuration\n",
    "Set up the streaming source configuration for reading parquet files from the external location."
   ]
  },
  {
   "cell_type": "code",
   "execution_count": null,
   "metadata": {},
   "outputs": [],
   "source": [
    "# Define Source Stream Configuration\n",
    "\n",
    "# Set the source path for the parquet files\n",
    "source_path = \"abfss://external-location@databricksdevstgacc.dfs.core.windows.net/parquet_stream/\"\n",
    "\n",
    "# Set the schemaLocation and checkpointLocation in the same folder as the source\n",
    "schema_location = source_path + \"schema/\"\n",
    "checkpoint_location = source_path + \"checkpoint/\"\n",
    "\n",
    "# Read the parquet files as a stream\n",
    "# First, read a sample parquet file to infer the schema\n",
    "sample_schema = spark.read.parquet(source_path).schema\n",
    "\n",
    "# Then use the inferred schema for streaming read\n",
    "parquet_stream = spark.readStream \\\n",
    "    .format(\"parquet\") \\\n",
    "    .schema(sample_schema) \\\n",
    "    .option(\"mergeSchema\", \"true\") \\\n",
    "    .option(\"schemaLocation\", schema_location) \\\n",
    "    .option(\"checkpointLocation\", checkpoint_location) \\\n",
    "    .load(source_path)\n",
    "\n",
    "# Display the schema of the streaming DataFrame\n",
    "parquet_stream.printSchema()"
   ]
  },
  {
   "cell_type": "markdown",
   "metadata": {},
   "source": [
    "# Create Streaming Query\n",
    "Define the streaming query with appropriate schema location and checkpoint location settings."
   ]
  },
  {
   "cell_type": "code",
   "execution_count": null,
   "metadata": {},
   "outputs": [],
   "source": [
    "# Create Streaming Query\n",
    "\n",
    "# Define the streaming query with appropriate schema location and checkpoint location settings\n",
    "streaming_query = parquet_stream.writeStream \\\n",
    "    .format(\"delta\") \\\n",
    "    .outputMode(\"append\") \\\n",
    "    .option(\"mergeSchema\", \"true\") \\\n",
    "    .option(\"checkpointLocation\", checkpoint_location) \\\n",
    "    .trigger(processingTime=\"10 seconds\") \\\n",
    "    .start(\"dev_catalog.default.transactions_stream_delta\")\n",
    "\n",
    "# Await termination of the streaming query\n",
    "# streaming_query.awaitTermination()"
   ]
  }
 ],
 "metadata": {
  "kernelspec": {
   "display_name": ".venv",
   "language": "python",
   "name": "python3"
  },
  "language_info": {
   "name": "python",
   "version": "3.12.3"
  }
 },
 "nbformat": 4,
 "nbformat_minor": 2
}
