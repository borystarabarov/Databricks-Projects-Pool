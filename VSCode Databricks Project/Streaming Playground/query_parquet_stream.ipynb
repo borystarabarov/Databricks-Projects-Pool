{
 "cells": [
  {
   "cell_type": "code",
   "execution_count": null,
   "metadata": {},
   "outputs": [],
   "source": [
    "from pyspark.sql.types import *\n",
    "\n",
    "# Define explicit schema for the Parquet files\n",
    "schema = StructType([\n",
    "    StructField(\"id\", IntegerType(), True),\n",
    "    StructField(\"name\", StringType(), True),\n",
    "    # Add other fields based on your Parquet file structure\n",
    "])\n",
    "\n",
    "# Read parquet files as a stream with explicit schema\n",
    "stream_df = spark.readStream \\\n",
    "    .format(\"parquet\") \\\n",
    "    .schema(schema) \\\n",
    "    .load(\"abfss://external-location@databricksdevstgacc.dfs.core.windows.net/files2/\")\n",
    "\n",
    "# Write the stream to delta table with schema evolution enabled\n",
    "stream_df.writeStream \\\n",
    "    .format(\"delta\") \\\n",
    "    .outputMode(\"append\") \\\n",
    "    .option(\"checkpointLocation\", \"abfss://external-location@databricksdevstgacc.dfs.core.windows.net/checkpoints/stream_test\") \\\n",
    "    .option(\"mergeSchema\", \"true\") \\\n",
    "    .table(\"stream_test_table\")"
   ]
  }
 ],
 "metadata": {
  "kernelspec": {
   "display_name": ".venv",
   "language": "python",
   "name": "python3"
  },
  "language_info": {
   "codemirror_mode": {
    "name": "ipython",
    "version": 3
   },
   "file_extension": ".py",
   "mimetype": "text/x-python",
   "name": "python",
   "nbconvert_exporter": "python",
   "pygments_lexer": "ipython3",
   "version": "3.12.3"
  }
 },
 "nbformat": 4,
 "nbformat_minor": 2
}
