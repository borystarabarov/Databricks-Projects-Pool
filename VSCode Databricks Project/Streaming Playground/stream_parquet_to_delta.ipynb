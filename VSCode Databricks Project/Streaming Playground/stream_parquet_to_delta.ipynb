{
 "cells": [
  {
   "cell_type": "markdown",
   "metadata": {},
   "source": [
    "# Stream Parquet Files to Delta Table\n",
    "This notebook reads Parquet files as a stream and writes them to a Delta table with schema evolution enabled."
   ]
  },
  {
   "cell_type": "code",
   "execution_count": null,
   "metadata": {
    "application/vnd.databricks.v1+cell": {
     "rowLimit": 1000,
     "showRowCount": true
    }
   },
   "outputs": [],
   "source": [
    "# Configure spark to allow schema merging\n",
    "spark.conf.set(\"spark.sql.streaming.schemaInference\", True)\n",
    "spark.conf.set(\"spark.databricks.delta.schema.autoMerge.enabled\", True)"
   ]
  },
  {
   "cell_type": "code",
   "execution_count": null,
   "metadata": {
    "application/vnd.databricks.v1+cell": {
     "rowLimit": 1000,
     "showRowCount": true
    }
   },
   "outputs": [],
   "source": [
    "# Read the streaming parquet files\n",
    "stream_df = spark.readStream.format(\"parquet\") \\\n",
    "    .option(\"mergeSchema\", \"true\") \\\n",
    "    .option(\"schemaLocation\", \"abfss://external-location@databricksdevstgacc.dfs.core.windows.net/schema/stream_test\") \\\n",
    "    .load(\"abfss://external-location@databricksdevstgacc.dfs.core.windows.net/files2/\")"
   ]
  },
  {
   "cell_type": "code",
   "execution_count": null,
   "metadata": {
    "application/vnd.databricks.v1+cell": {
     "rowLimit": 1000,
     "showRowCount": true
    }
   },
   "outputs": [],
   "source": [
    "# Write the stream to a delta table\n",
    "checkpoint_path = \"abfss://external-location@databricksdevstgacc.dfs.core.windows.net/checkpoints/stream_test\"\n",
    "\n",
    "stream_query = stream_df.writeStream \\\n",
    "    .format(\"delta\") \\\n",
    "    .outputMode(\"append\") \\\n",
    "    .option(\"checkpointLocation\", checkpoint_path) \\\n",
    "    .option(\"mergeSchema\", \"true\") \\\n",
    "    .trigger(processingTime='5 seconds') \\\n",
    "    .toTable(\"dev_catalog.default.stream_test\")"
   ]
  },
  {
   "cell_type": "code",
   "execution_count": null,
   "metadata": {
    "application/vnd.databricks.v1+cell": {
     "rowLimit": 1000,
     "showRowCount": true
    }
   },
   "outputs": [],
   "source": [
    "# Wait for the stream to complete\n",
    "stream_query.awaitTermination()"
   ]
  }
 ],
 "metadata": {
  "application/vnd.databricks.v1+notebook": {
   "dashboards": [],
   "language": "python",
   "notebookMetadata": {
    "pythonIndentUnit": 2
   },
   "notebookName": "Stream Parquet to Delta"
  },
  "kernelspec": {
   "display_name": ".venv",
   "language": "python",
   "name": "python3"
  },
  "language_info": {
   "name": "python",
   "version": "3.12.3"
  }
 },
 "nbformat": 4,
 "nbformat_minor": 2
}
