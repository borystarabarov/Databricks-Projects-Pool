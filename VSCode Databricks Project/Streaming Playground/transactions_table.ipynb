{
 "cells": [
  {
   "cell_type": "code",
   "execution_count": null,
   "metadata": {
    "vscode": {
     "languageId": "sql"
    }
   },
   "outputs": [],
   "source": [
    "CREATE TABLE IF NOT EXISTS transactions (\n",
    "  order_id STRING,\n",
    "  shop_id INT,\n",
    "  timestamp TIMESTAMP,\n",
    "  product_id STRING,\n",
    "  quantity INT,\n",
    "  price DECIMAL(10,2)\n",
    ")\n",
    "USING DELTA\n",
    "COMMENT 'Transactions table storing order details';"
   ]
  },
  {
   "cell_type": "code",
   "execution_count": null,
   "metadata": {
    "vscode": {
     "languageId": "sql"
    }
   },
   "outputs": [],
   "source": [
    "INSERT INTO transactions VALUES\n",
    "('ORD001', 1, current_timestamp() - interval 23 hours, 'P100', 2, 29.99),\n",
    "('ORD002', 2, current_timestamp() - interval 20 hours, 'P101', 1, 49.99),\n",
    "('ORD003', 1, current_timestamp() - interval 18 hours, 'P102', 3, 19.99),\n",
    "('ORD004', 3, current_timestamp() - interval 15 hours, 'P103', 1, 89.99),\n",
    "('ORD005', 2, current_timestamp() - interval 12 hours, 'P101', 2, 49.99),\n",
    "('ORD006', 4, current_timestamp() - interval 9 hours, 'P104', 4, 15.99),\n",
    "('ORD007', 5, current_timestamp() - interval 6 hours, 'P105', 1, 99.99),\n",
    "('ORD008', 3, current_timestamp() - interval 4 hours, 'P102', 2, 19.99),\n",
    "('ORD009', 1, current_timestamp() - interval 2 hours, 'P100', 3, 29.99),\n",
    "('ORD010', 4, current_timestamp(), 'P103', 1, 89.99);"
   ]
  }
 ],
 "metadata": {
  "kernelspec": {
   "display_name": ".venv",
   "language": "python",
   "name": "python3"
  },
  "language_info": {
   "name": "python",
   "version": "3.12.3"
  }
 },
 "nbformat": 4,
 "nbformat_minor": 2
}
